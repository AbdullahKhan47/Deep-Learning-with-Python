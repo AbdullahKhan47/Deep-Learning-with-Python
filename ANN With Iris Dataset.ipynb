{
  "nbformat": 4,
  "nbformat_minor": 0,
  "metadata": {
    "colab": {
      "name": "LAB8(friday).ipynb",
      "provenance": [],
      "collapsed_sections": []
    },
    "kernelspec": {
      "name": "python3",
      "display_name": "Python 3"
    }
  },
  "cells": [
    {
      "cell_type": "code",
      "metadata": {
        "id": "EpOdP5vory8M"
      },
      "source": [
        "import pandas as pd\r\n"
      ],
      "execution_count": 1,
      "outputs": []
    },
    {
      "cell_type": "code",
      "metadata": {
        "colab": {
          "base_uri": "https://localhost:8080/",
          "height": 204
        },
        "id": "tFVHHV1pr7r9",
        "outputId": "09a1af1f-0193-4925-9158-fe9f2fabd8fd"
      },
      "source": [
        "df=pd.read_csv('Iris.csv')\r\n",
        "df.head()"
      ],
      "execution_count": 3,
      "outputs": [
        {
          "output_type": "execute_result",
          "data": {
            "text/html": [
              "<div>\n",
              "<style scoped>\n",
              "    .dataframe tbody tr th:only-of-type {\n",
              "        vertical-align: middle;\n",
              "    }\n",
              "\n",
              "    .dataframe tbody tr th {\n",
              "        vertical-align: top;\n",
              "    }\n",
              "\n",
              "    .dataframe thead th {\n",
              "        text-align: right;\n",
              "    }\n",
              "</style>\n",
              "<table border=\"1\" class=\"dataframe\">\n",
              "  <thead>\n",
              "    <tr style=\"text-align: right;\">\n",
              "      <th></th>\n",
              "      <th>Id</th>\n",
              "      <th>SepalLengthCm</th>\n",
              "      <th>SepalWidthCm</th>\n",
              "      <th>PetalLengthCm</th>\n",
              "      <th>PetalWidthCm</th>\n",
              "      <th>Species</th>\n",
              "    </tr>\n",
              "  </thead>\n",
              "  <tbody>\n",
              "    <tr>\n",
              "      <th>0</th>\n",
              "      <td>1</td>\n",
              "      <td>5.1</td>\n",
              "      <td>3.5</td>\n",
              "      <td>1.4</td>\n",
              "      <td>0.2</td>\n",
              "      <td>Iris-setosa</td>\n",
              "    </tr>\n",
              "    <tr>\n",
              "      <th>1</th>\n",
              "      <td>2</td>\n",
              "      <td>4.9</td>\n",
              "      <td>3.0</td>\n",
              "      <td>1.4</td>\n",
              "      <td>0.2</td>\n",
              "      <td>Iris-setosa</td>\n",
              "    </tr>\n",
              "    <tr>\n",
              "      <th>2</th>\n",
              "      <td>3</td>\n",
              "      <td>4.7</td>\n",
              "      <td>3.2</td>\n",
              "      <td>1.3</td>\n",
              "      <td>0.2</td>\n",
              "      <td>Iris-setosa</td>\n",
              "    </tr>\n",
              "    <tr>\n",
              "      <th>3</th>\n",
              "      <td>4</td>\n",
              "      <td>4.6</td>\n",
              "      <td>3.1</td>\n",
              "      <td>1.5</td>\n",
              "      <td>0.2</td>\n",
              "      <td>Iris-setosa</td>\n",
              "    </tr>\n",
              "    <tr>\n",
              "      <th>4</th>\n",
              "      <td>5</td>\n",
              "      <td>5.0</td>\n",
              "      <td>3.6</td>\n",
              "      <td>1.4</td>\n",
              "      <td>0.2</td>\n",
              "      <td>Iris-setosa</td>\n",
              "    </tr>\n",
              "  </tbody>\n",
              "</table>\n",
              "</div>"
            ],
            "text/plain": [
              "   Id  SepalLengthCm  SepalWidthCm  PetalLengthCm  PetalWidthCm      Species\n",
              "0   1            5.1           3.5            1.4           0.2  Iris-setosa\n",
              "1   2            4.9           3.0            1.4           0.2  Iris-setosa\n",
              "2   3            4.7           3.2            1.3           0.2  Iris-setosa\n",
              "3   4            4.6           3.1            1.5           0.2  Iris-setosa\n",
              "4   5            5.0           3.6            1.4           0.2  Iris-setosa"
            ]
          },
          "metadata": {
            "tags": []
          },
          "execution_count": 3
        }
      ]
    },
    {
      "cell_type": "code",
      "metadata": {
        "id": "LgfIuirX4uLX"
      },
      "source": [
        ""
      ],
      "execution_count": null,
      "outputs": []
    },
    {
      "cell_type": "code",
      "metadata": {
        "colab": {
          "base_uri": "https://localhost:8080/"
        },
        "id": "wzVrCiIVsRk7",
        "outputId": "275db997-8749-4bcb-ae46-8d524b680757"
      },
      "source": [
        "import tensorflow as tf\r\n",
        "from sklearn.model_selection import train_test_split\r\n",
        "x=df.filter(['SepalLengthCm','SepalWidthCm','PetalLengthCm','PetalWidthCm'])\r\n",
        "y=df['Species']\r\n",
        "#from sklearn.preprocessing import OneHotEncoder\r\n",
        "#le=OneHotEncoder()\r\n",
        "#yencoded=le.fit_transform(y)\r\n",
        "from sklearn import preprocessing\r\n",
        "le = preprocessing.LabelEncoder()\r\n",
        "yencoded=le.fit_transform(y)\r\n",
        "print(yencoded)\r\n",
        "X_train,X_test,y_train,y_test=train_test_split(x,yencoded,test_size=0.2,random_state=42)\r\n",
        "X_train.shape\r\n",
        "y_train = tf.keras.utils.to_categorical(y_train, 3)\r\n",
        "y_test = tf.keras.utils.to_categorical(y_test, 3)"
      ],
      "execution_count": 61,
      "outputs": [
        {
          "output_type": "stream",
          "text": [
            "[0 0 0 0 0 0 0 0 0 0 0 0 0 0 0 0 0 0 0 0 0 0 0 0 0 0 0 0 0 0 0 0 0 0 0 0 0\n",
            " 0 0 0 0 0 0 0 0 0 0 0 0 0 1 1 1 1 1 1 1 1 1 1 1 1 1 1 1 1 1 1 1 1 1 1 1 1\n",
            " 1 1 1 1 1 1 1 1 1 1 1 1 1 1 1 1 1 1 1 1 1 1 1 1 1 1 2 2 2 2 2 2 2 2 2 2 2\n",
            " 2 2 2 2 2 2 2 2 2 2 2 2 2 2 2 2 2 2 2 2 2 2 2 2 2 2 2 2 2 2 2 2 2 2 2 2 2\n",
            " 2 2]\n"
          ],
          "name": "stdout"
        }
      ]
    },
    {
      "cell_type": "code",
      "metadata": {
        "id": "PrD65MVKxRtU"
      },
      "source": [
        ""
      ],
      "execution_count": 35,
      "outputs": []
    },
    {
      "cell_type": "code",
      "metadata": {
        "id": "bJZSu3wksXPa"
      },
      "source": [
        "from tensorflow.keras import Sequential\r\n",
        "from tensorflow.keras.layers import Dense"
      ],
      "execution_count": 62,
      "outputs": []
    },
    {
      "cell_type": "code",
      "metadata": {
        "id": "TGUbOcFmsiJy"
      },
      "source": [
        "model=Sequential()\r\n",
        "model.add(Dense(16, input_dim=4,activation='relu'))\r\n",
        "model.add(Dense(12, activation='relu'))\r\n",
        "model.add(Dense(12, activation='relu'))\r\n",
        "model.add(Dense(12, activation='relu'))\r\n",
        "model.add(Dense(12, activation='relu'))\r\n",
        "model.add(Dense(12, activation='relu'))\r\n",
        "model.add(Dense(12, activation='relu'))\r\n",
        "model.add(Dense(12, activation='relu'))\r\n",
        "model.add(Dense(3, activation='softmax'))"
      ],
      "execution_count": 63,
      "outputs": []
    },
    {
      "cell_type": "code",
      "metadata": {
        "id": "Bf35YwVLtUC-"
      },
      "source": [
        "model.compile(loss='categorical_crossentropy',optimizer='adam',metrics=['accuracy'])"
      ],
      "execution_count": 64,
      "outputs": []
    },
    {
      "cell_type": "code",
      "metadata": {
        "colab": {
          "base_uri": "https://localhost:8080/"
        },
        "id": "hM09ICpotq8O",
        "outputId": "1b2a3858-9359-415c-aebd-a56e5512216f"
      },
      "source": [
        "history=model.fit(X_train,y_train,epochs=100,batch_size=20)"
      ],
      "execution_count": 65,
      "outputs": [
        {
          "output_type": "stream",
          "text": [
            "Epoch 1/100\n",
            "6/6 [==============================] - 1s 3ms/step - loss: 1.0959 - accuracy: 0.3981\n",
            "Epoch 2/100\n",
            "6/6 [==============================] - 0s 4ms/step - loss: 1.0863 - accuracy: 0.4408\n",
            "Epoch 3/100\n",
            "6/6 [==============================] - 0s 3ms/step - loss: 1.0758 - accuracy: 0.6379\n",
            "Epoch 4/100\n",
            "6/6 [==============================] - 0s 3ms/step - loss: 1.0622 - accuracy: 0.6514\n",
            "Epoch 5/100\n",
            "6/6 [==============================] - 0s 3ms/step - loss: 1.0472 - accuracy: 0.6342\n",
            "Epoch 6/100\n",
            "6/6 [==============================] - 0s 3ms/step - loss: 1.0216 - accuracy: 0.6913\n",
            "Epoch 7/100\n",
            "6/6 [==============================] - 0s 3ms/step - loss: 0.9905 - accuracy: 0.6804\n",
            "Epoch 8/100\n",
            "6/6 [==============================] - 0s 2ms/step - loss: 0.9619 - accuracy: 0.6651\n",
            "Epoch 9/100\n",
            "6/6 [==============================] - 0s 2ms/step - loss: 0.9175 - accuracy: 0.6520\n",
            "Epoch 10/100\n",
            "6/6 [==============================] - 0s 3ms/step - loss: 0.8619 - accuracy: 0.6620\n",
            "Epoch 11/100\n",
            "6/6 [==============================] - 0s 3ms/step - loss: 0.7889 - accuracy: 0.6908\n",
            "Epoch 12/100\n",
            "6/6 [==============================] - 0s 3ms/step - loss: 0.7413 - accuracy: 0.6669\n",
            "Epoch 13/100\n",
            "6/6 [==============================] - 0s 4ms/step - loss: 0.7045 - accuracy: 0.6168\n",
            "Epoch 14/100\n",
            "6/6 [==============================] - 0s 3ms/step - loss: 0.5694 - accuracy: 0.7367\n",
            "Epoch 15/100\n",
            "6/6 [==============================] - 0s 4ms/step - loss: 0.5772 - accuracy: 0.6263\n",
            "Epoch 16/100\n",
            "6/6 [==============================] - 0s 3ms/step - loss: 0.5213 - accuracy: 0.6379\n",
            "Epoch 17/100\n",
            "6/6 [==============================] - 0s 4ms/step - loss: 0.5023 - accuracy: 0.6733\n",
            "Epoch 18/100\n",
            "6/6 [==============================] - 0s 3ms/step - loss: 0.4485 - accuracy: 0.7856\n",
            "Epoch 19/100\n",
            "6/6 [==============================] - 0s 4ms/step - loss: 0.4059 - accuracy: 0.8677\n",
            "Epoch 20/100\n",
            "6/6 [==============================] - 0s 3ms/step - loss: 0.3854 - accuracy: 0.8881\n",
            "Epoch 21/100\n",
            "6/6 [==============================] - 0s 3ms/step - loss: 0.3738 - accuracy: 0.9611\n",
            "Epoch 22/100\n",
            "6/6 [==============================] - 0s 4ms/step - loss: 0.3374 - accuracy: 0.9462\n",
            "Epoch 23/100\n",
            "6/6 [==============================] - 0s 3ms/step - loss: 0.3388 - accuracy: 0.9546\n",
            "Epoch 24/100\n",
            "6/6 [==============================] - 0s 3ms/step - loss: 0.3114 - accuracy: 0.9515\n",
            "Epoch 25/100\n",
            "6/6 [==============================] - 0s 4ms/step - loss: 0.2265 - accuracy: 0.9761\n",
            "Epoch 26/100\n",
            "6/6 [==============================] - 0s 3ms/step - loss: 0.2597 - accuracy: 0.9630\n",
            "Epoch 27/100\n",
            "6/6 [==============================] - 0s 3ms/step - loss: 0.2587 - accuracy: 0.9001\n",
            "Epoch 28/100\n",
            "6/6 [==============================] - 0s 3ms/step - loss: 0.2272 - accuracy: 0.9323\n",
            "Epoch 29/100\n",
            "6/6 [==============================] - 0s 4ms/step - loss: 0.2279 - accuracy: 0.9311\n",
            "Epoch 30/100\n",
            "6/6 [==============================] - 0s 4ms/step - loss: 0.2030 - accuracy: 0.9511\n",
            "Epoch 31/100\n",
            "6/6 [==============================] - 0s 4ms/step - loss: 0.2063 - accuracy: 0.9373\n",
            "Epoch 32/100\n",
            "6/6 [==============================] - 0s 4ms/step - loss: 0.1500 - accuracy: 0.9755\n",
            "Epoch 33/100\n",
            "6/6 [==============================] - 0s 3ms/step - loss: 0.1845 - accuracy: 0.9510\n",
            "Epoch 34/100\n",
            "6/6 [==============================] - 0s 3ms/step - loss: 0.1551 - accuracy: 0.9524\n",
            "Epoch 35/100\n",
            "6/6 [==============================] - 0s 3ms/step - loss: 0.1387 - accuracy: 0.9710\n",
            "Epoch 36/100\n",
            "6/6 [==============================] - 0s 4ms/step - loss: 0.1410 - accuracy: 0.9639\n",
            "Epoch 37/100\n",
            "6/6 [==============================] - 0s 3ms/step - loss: 0.1553 - accuracy: 0.9598\n",
            "Epoch 38/100\n",
            "6/6 [==============================] - 0s 3ms/step - loss: 0.1536 - accuracy: 0.9435\n",
            "Epoch 39/100\n",
            "6/6 [==============================] - 0s 3ms/step - loss: 0.1307 - accuracy: 0.9506\n",
            "Epoch 40/100\n",
            "6/6 [==============================] - 0s 3ms/step - loss: 0.0975 - accuracy: 0.9799\n",
            "Epoch 41/100\n",
            "6/6 [==============================] - 0s 4ms/step - loss: 0.1059 - accuracy: 0.9677\n",
            "Epoch 42/100\n",
            "6/6 [==============================] - 0s 3ms/step - loss: 0.0880 - accuracy: 0.9844\n",
            "Epoch 43/100\n",
            "6/6 [==============================] - 0s 2ms/step - loss: 0.1073 - accuracy: 0.9574\n",
            "Epoch 44/100\n",
            "6/6 [==============================] - 0s 5ms/step - loss: 0.1493 - accuracy: 0.9431\n",
            "Epoch 45/100\n",
            "6/6 [==============================] - 0s 3ms/step - loss: 0.0896 - accuracy: 0.9743\n",
            "Epoch 46/100\n",
            "6/6 [==============================] - 0s 3ms/step - loss: 0.0997 - accuracy: 0.9723\n",
            "Epoch 47/100\n",
            "6/6 [==============================] - 0s 3ms/step - loss: 0.1175 - accuracy: 0.9768\n",
            "Epoch 48/100\n",
            "6/6 [==============================] - 0s 3ms/step - loss: 0.1092 - accuracy: 0.9648\n",
            "Epoch 49/100\n",
            "6/6 [==============================] - 0s 3ms/step - loss: 0.1009 - accuracy: 0.9624\n",
            "Epoch 50/100\n",
            "6/6 [==============================] - 0s 3ms/step - loss: 0.1183 - accuracy: 0.9565\n",
            "Epoch 51/100\n",
            "6/6 [==============================] - 0s 3ms/step - loss: 0.1186 - accuracy: 0.9325\n",
            "Epoch 52/100\n",
            "6/6 [==============================] - 0s 3ms/step - loss: 0.1139 - accuracy: 0.9538\n",
            "Epoch 53/100\n",
            "6/6 [==============================] - 0s 4ms/step - loss: 0.0796 - accuracy: 0.9793\n",
            "Epoch 54/100\n",
            "6/6 [==============================] - 0s 3ms/step - loss: 0.1426 - accuracy: 0.9220\n",
            "Epoch 55/100\n",
            "6/6 [==============================] - 0s 3ms/step - loss: 0.0828 - accuracy: 0.9785\n",
            "Epoch 56/100\n",
            "6/6 [==============================] - 0s 4ms/step - loss: 0.0648 - accuracy: 0.9858\n",
            "Epoch 57/100\n",
            "6/6 [==============================] - 0s 4ms/step - loss: 0.1039 - accuracy: 0.9599\n",
            "Epoch 58/100\n",
            "6/6 [==============================] - 0s 3ms/step - loss: 0.0886 - accuracy: 0.9639\n",
            "Epoch 59/100\n",
            "6/6 [==============================] - 0s 4ms/step - loss: 0.0699 - accuracy: 0.9618\n",
            "Epoch 60/100\n",
            "6/6 [==============================] - 0s 4ms/step - loss: 0.0843 - accuracy: 0.9674\n",
            "Epoch 61/100\n",
            "6/6 [==============================] - 0s 4ms/step - loss: 0.0742 - accuracy: 0.9669\n",
            "Epoch 62/100\n",
            "6/6 [==============================] - 0s 4ms/step - loss: 0.0698 - accuracy: 0.9840\n",
            "Epoch 63/100\n",
            "6/6 [==============================] - 0s 3ms/step - loss: 0.0698 - accuracy: 0.9882\n",
            "Epoch 64/100\n",
            "6/6 [==============================] - 0s 3ms/step - loss: 0.0752 - accuracy: 0.9767\n",
            "Epoch 65/100\n",
            "6/6 [==============================] - 0s 3ms/step - loss: 0.0667 - accuracy: 0.9695\n",
            "Epoch 66/100\n",
            "6/6 [==============================] - 0s 3ms/step - loss: 0.0939 - accuracy: 0.9729\n",
            "Epoch 67/100\n",
            "6/6 [==============================] - 0s 3ms/step - loss: 0.0661 - accuracy: 0.9808\n",
            "Epoch 68/100\n",
            "6/6 [==============================] - 0s 3ms/step - loss: 0.1008 - accuracy: 0.9621\n",
            "Epoch 69/100\n",
            "6/6 [==============================] - 0s 5ms/step - loss: 0.0784 - accuracy: 0.9717\n",
            "Epoch 70/100\n",
            "6/6 [==============================] - 0s 4ms/step - loss: 0.0721 - accuracy: 0.9701\n",
            "Epoch 71/100\n",
            "6/6 [==============================] - 0s 3ms/step - loss: 0.1026 - accuracy: 0.9487\n",
            "Epoch 72/100\n",
            "6/6 [==============================] - 0s 4ms/step - loss: 0.0725 - accuracy: 0.9790\n",
            "Epoch 73/100\n",
            "6/6 [==============================] - 0s 2ms/step - loss: 0.0672 - accuracy: 0.9785\n",
            "Epoch 74/100\n",
            "6/6 [==============================] - 0s 3ms/step - loss: 0.0698 - accuracy: 0.9580\n",
            "Epoch 75/100\n",
            "6/6 [==============================] - 0s 4ms/step - loss: 0.0987 - accuracy: 0.9626\n",
            "Epoch 76/100\n",
            "6/6 [==============================] - 0s 3ms/step - loss: 0.0754 - accuracy: 0.9781\n",
            "Epoch 77/100\n",
            "6/6 [==============================] - 0s 3ms/step - loss: 0.0785 - accuracy: 0.9613\n",
            "Epoch 78/100\n",
            "6/6 [==============================] - 0s 3ms/step - loss: 0.0759 - accuracy: 0.9654\n",
            "Epoch 79/100\n",
            "6/6 [==============================] - 0s 3ms/step - loss: 0.0815 - accuracy: 0.9660\n",
            "Epoch 80/100\n",
            "6/6 [==============================] - 0s 4ms/step - loss: 0.0641 - accuracy: 0.9779\n",
            "Epoch 81/100\n",
            "6/6 [==============================] - 0s 3ms/step - loss: 0.0656 - accuracy: 0.9858\n",
            "Epoch 82/100\n",
            "6/6 [==============================] - 0s 4ms/step - loss: 0.0546 - accuracy: 0.9749\n",
            "Epoch 83/100\n",
            "6/6 [==============================] - 0s 3ms/step - loss: 0.0760 - accuracy: 0.9642\n",
            "Epoch 84/100\n",
            "6/6 [==============================] - 0s 3ms/step - loss: 0.0696 - accuracy: 0.9749\n",
            "Epoch 85/100\n",
            "6/6 [==============================] - 0s 3ms/step - loss: 0.0908 - accuracy: 0.9580\n",
            "Epoch 86/100\n",
            "6/6 [==============================] - 0s 3ms/step - loss: 0.0683 - accuracy: 0.9749\n",
            "Epoch 87/100\n",
            "6/6 [==============================] - 0s 3ms/step - loss: 0.0466 - accuracy: 0.9882\n",
            "Epoch 88/100\n",
            "6/6 [==============================] - 0s 3ms/step - loss: 0.0451 - accuracy: 0.9705\n",
            "Epoch 89/100\n",
            "6/6 [==============================] - 0s 3ms/step - loss: 0.0519 - accuracy: 0.9832\n",
            "Epoch 90/100\n",
            "6/6 [==============================] - 0s 4ms/step - loss: 0.0460 - accuracy: 0.9858\n",
            "Epoch 91/100\n",
            "6/6 [==============================] - 0s 4ms/step - loss: 0.0525 - accuracy: 0.9743\n",
            "Epoch 92/100\n",
            "6/6 [==============================] - 0s 3ms/step - loss: 0.0740 - accuracy: 0.9452\n",
            "Epoch 93/100\n",
            "6/6 [==============================] - 0s 4ms/step - loss: 0.0484 - accuracy: 0.9844\n",
            "Epoch 94/100\n",
            "6/6 [==============================] - 0s 4ms/step - loss: 0.0823 - accuracy: 0.9602\n",
            "Epoch 95/100\n",
            "6/6 [==============================] - 0s 3ms/step - loss: 0.0592 - accuracy: 0.9773\n",
            "Epoch 96/100\n",
            "6/6 [==============================] - 0s 3ms/step - loss: 0.0904 - accuracy: 0.9701\n",
            "Epoch 97/100\n",
            "6/6 [==============================] - 0s 4ms/step - loss: 0.0500 - accuracy: 0.9802\n",
            "Epoch 98/100\n",
            "6/6 [==============================] - 0s 3ms/step - loss: 0.0931 - accuracy: 0.9674\n",
            "Epoch 99/100\n",
            "6/6 [==============================] - 0s 3ms/step - loss: 0.0588 - accuracy: 0.9749\n",
            "Epoch 100/100\n",
            "6/6 [==============================] - 0s 3ms/step - loss: 0.0468 - accuracy: 0.9896\n"
          ],
          "name": "stdout"
        }
      ]
    },
    {
      "cell_type": "code",
      "metadata": {
        "colab": {
          "base_uri": "https://localhost:8080/"
        },
        "id": "HCsWt3XIt_xu",
        "outputId": "cfdbfd07-3cd9-462d-b2f5-f488ecf4e1c6"
      },
      "source": [
        "import numpy as np\r\n",
        "y_pred=model.predict(X_test)\r\n",
        "pred=list()\r\n",
        "for i in range(len(y_pred)):\r\n",
        "  pred.append(np.argmax(y_pred[i]))\r\n",
        "test=list()\r\n",
        "for i in range(len(y_test)):\r\n",
        "  test.append(np.argmax(y_test[i]))\r\n",
        "print(y_pred)"
      ],
      "execution_count": 70,
      "outputs": [
        {
          "output_type": "stream",
          "text": [
            "[[2.0932084e-05 9.9303740e-01 6.9416347e-03]\n",
            " [9.9970454e-01 2.9547894e-04 3.5143561e-09]\n",
            " [8.1407449e-14 9.1964612e-04 9.9908030e-01]\n",
            " [6.2523695e-06 9.7372437e-01 2.6269415e-02]\n",
            " [1.5644475e-05 9.9601364e-01 3.9706719e-03]\n",
            " [9.9954396e-01 4.5596305e-04 9.9884998e-09]\n",
            " [9.1835874e-04 9.9843651e-01 6.4512948e-04]\n",
            " [7.1317607e-10 7.5086094e-02 9.2491388e-01]\n",
            " [2.3285152e-06 8.1379312e-01 1.8620455e-01]\n",
            " [5.5376120e-04 9.9863523e-01 8.1092049e-04]\n",
            " [9.3704635e-09 2.4090330e-01 7.5909674e-01]\n",
            " [9.9899918e-01 1.0006712e-03 6.5770024e-08]\n",
            " [9.9952292e-01 4.7707901e-04 1.1186994e-08]\n",
            " [9.9914384e-01 8.5619191e-04 4.5189665e-08]\n",
            " [9.9950349e-01 4.9644936e-04 1.1014750e-08]\n",
            " [4.5543461e-06 9.8834991e-01 1.1645490e-02]\n",
            " [1.1268655e-12 1.8750188e-03 9.9812502e-01]\n",
            " [5.1197514e-04 9.9824739e-01 1.2407126e-03]\n",
            " [1.0851424e-05 9.7522664e-01 2.4762491e-02]\n",
            " [2.4097701e-12 2.2464565e-03 9.9775356e-01]\n",
            " [9.9910766e-01 8.9227536e-04 4.6268539e-08]\n",
            " [4.3260737e-08 3.3773297e-01 6.6226697e-01]\n",
            " [9.9932933e-01 6.7072827e-04 2.0347931e-08]\n",
            " [3.2959633e-12 2.5036871e-03 9.9749631e-01]\n",
            " [9.8073583e-10 2.8776273e-01 7.1223724e-01]\n",
            " [3.4265674e-11 1.2088535e-02 9.8791146e-01]\n",
            " [8.6870545e-12 3.6749439e-03 9.9632508e-01]\n",
            " [4.5484222e-13 1.5425517e-03 9.9845743e-01]\n",
            " [9.9909413e-01 9.0587500e-04 5.1668682e-08]\n",
            " [9.9915743e-01 8.4253593e-04 4.3103100e-08]]\n"
          ],
          "name": "stdout"
        }
      ]
    },
    {
      "cell_type": "code",
      "metadata": {
        "colab": {
          "base_uri": "https://localhost:8080/"
        },
        "id": "YgeYS9JW6no5",
        "outputId": "daefdf08-00cb-49d9-cda1-3f5e1f0b9a29"
      },
      "source": [
        "print(pred)\r\n",
        "from sklearn.metrics import accuracy_score\r\n",
        "a= accuracy_score(pred,test)\r\n",
        "print(a*100)"
      ],
      "execution_count": 72,
      "outputs": [
        {
          "output_type": "stream",
          "text": [
            "[1, 0, 2, 1, 1, 0, 1, 2, 1, 1, 2, 0, 0, 0, 0, 1, 2, 1, 1, 2, 0, 2, 0, 2, 2, 2, 2, 2, 0, 0]\n",
            "100.0\n"
          ],
          "name": "stdout"
        }
      ]
    },
    {
      "cell_type": "code",
      "metadata": {
        "id": "6jSHzW2-9EKo"
      },
      "source": [
        ""
      ],
      "execution_count": null,
      "outputs": []
    }
  ]
}