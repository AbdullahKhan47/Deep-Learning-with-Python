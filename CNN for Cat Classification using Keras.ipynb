{
 "cells": [
  {
   "cell_type": "markdown",
   "metadata": {},
   "source": [
    "# Training a Computer to Differentiate Cats"
   ]
  },
  {
   "cell_type": "code",
   "execution_count": null,
   "metadata": {},
   "outputs": [],
   "source": [
    "!pip install keras"
   ]
  },
  {
   "cell_type": "code",
   "execution_count": 1,
   "metadata": {},
   "outputs": [],
   "source": [
    "from keras.models import Sequential, load_model\n",
    "from keras.layers import Dense, Activation, Dropout\n",
    "from keras.layers.normalization import BatchNormalization\n",
    "from keras.optimizers import SGD, Adam\n",
    "from keras import regularizers\n",
    "import numpy as np\n",
    "import pandas as pd\n",
    "import matplotlib.pyplot as plt\n",
    "import h5py\n",
    "\n",
    "%matplotlib inline\n",
    "np.random.seed(1)"
   ]
  },
  {
   "cell_type": "code",
   "execution_count": 2,
   "metadata": {},
   "outputs": [],
   "source": [
    "plt.rcParams['figure.figsize'] = (8.0, 8.0) # set default size of plots\n",
    "plt.rcParams['image.interpolation'] = 'nearest'\n",
    "plt.rcParams['image.cmap'] = 'gray'\n",
    "\n",
    "np.random.seed(1)"
   ]
  },
  {
   "cell_type": "markdown",
   "metadata": {},
   "source": [
    "## 1 - Overview of the data set\n",
    "\n",
    "First of all, we'll load the data. After loading, here's a basic overview;\n",
    "\n",
    "- a training set of m_train images labeled as cat (y=1) or non-cat (y=0)\n",
    "- a test set of m_test images labeled as cat or non-cat\n",
    "- each image is of shape (num_px, num_px, 3) where 3 is for the 3 channels (RGB). Thus, each image is square (height = num_px) and (width = num_px)."
   ]
  },
  {
   "cell_type": "code",
   "execution_count": null,
   "metadata": {},
   "outputs": [],
   "source": []
  },
  {
   "cell_type": "code",
   "execution_count": 19,
   "metadata": {},
   "outputs": [],
   "source": [
    "train_dataset = h5py.File('train.h5', \"r\")\n",
    "train_set_x_orig = np.array(train_dataset[\"train_set_x\"][:]) # train set features\n",
    "train_set_y_orig = np.array(train_dataset[\"train_set_y\"][:]) # train set labels\n",
    "\n",
    "test_dataset = h5py.File('test.h5', \"r\")\n",
    "test_set_x_orig = np.array(test_dataset[\"test_set_x\"][:]) # test set features\n",
    "test_set_y_orig = np.array(test_dataset[\"test_set_y\"][:]) # test set labels"
   ]
  },
  {
   "cell_type": "code",
   "execution_count": 4,
   "metadata": {},
   "outputs": [
    {
     "data": {
      "text/plain": [
       "array([b'non-cat', b'cat'], dtype='|S7')"
      ]
     },
     "execution_count": 4,
     "metadata": {},
     "output_type": "execute_result"
    }
   ],
   "source": [
    "classes = np.array(test_dataset[\"list_classes\"][:]) # the list of classes\n",
    "classes"
   ]
  },
  {
   "cell_type": "code",
   "execution_count": 5,
   "metadata": {},
   "outputs": [
    {
     "name": "stdout",
     "output_type": "stream",
     "text": [
      "(1, 209)\n",
      "(1, 50)\n"
     ]
    }
   ],
   "source": [
    "train_set_y = train_set_y_orig.reshape((1, train_set_y_orig.shape[0]))\n",
    "test_set_y = test_set_y_orig.reshape((1, test_set_y_orig.shape[0]))\n",
    "print(train_set_y.shape)\n",
    "print(test_set_y.shape)"
   ]
  },
  {
   "cell_type": "markdown",
   "metadata": {},
   "source": [
    "Each line of train_set_x_orig and test_set_x_orig is an array representing an image. You can visualize an example by running the following code. Feel free also to change the index value and re-run to see other images."
   ]
  },
  {
   "cell_type": "code",
   "execution_count": 6,
   "metadata": {},
   "outputs": [
    {
     "name": "stdout",
     "output_type": "stream",
     "text": [
      "y = [1], it's a 'cat' picture.\n"
     ]
    },
    {
     "data": {
      "image/png": "[encoded data removed]",
      "text/plain": [
       "<matplotlib.figure.Figure at 0x229b1a60ac8>"
      ]
     },
     "metadata": {},
     "output_type": "display_data"
    }
   ],
   "source": [
    "# Example of a picture\n",
    "index = 56\n",
    "plt.imshow(train_set_x_orig[index])\n",
    "print (\"y = \" + str(train_set_y[:, index]) + \", it's a '\" + classes[np.squeeze(train_set_y[:, index])].decode(\"utf-8\") +  \"' picture.\")"
   ]
  },
  {
   "cell_type": "markdown",
   "metadata": {},
   "source": [
    "## 2 - Data preprocessing\n",
    "\n",
    "Common steps for pre-processing a new dataset are:\n",
    "\n",
    "- Figure out the dimensions and shapes of the problem (m_train, m_test, num_px, ...)\n",
    "- Reshape the datasets such that each example is now a vector of size (num_px * num_px * 3, 1)\n",
    "- \"Standardize\" the data\n",
    "\n",
    "Many software bugs in deep learning come from having matrix/vector dimensions that don't fit. If you can keep your matrix/vector dimensions straight you will go a long way toward eliminating many bugs."
   ]
  },
  {
   "cell_type": "markdown",
   "metadata": {},
   "source": [
    "### 2.1 Dimensions of our data"
   ]
  },
  {
   "cell_type": "code",
   "execution_count": 7,
   "metadata": {},
   "outputs": [
    {
     "name": "stdout",
     "output_type": "stream",
     "text": [
      "Dataset dimensions:\n",
      "Number of training examples: m_train = 209\n",
      "Number of testing examples: m_test = 50\n",
      "Height/Width of each image: num_px = 64\n",
      "Each image is of size: (64, 64, 3)\n"
     ]
    }
   ],
   "source": [
    "m_train = train_set_x_orig.shape[0]\n",
    "m_test = test_set_x_orig.shape[0]\n",
    "num_px = train_set_x_orig.shape[1]\n",
    "\n",
    "print (\"Dataset dimensions:\")\n",
    "print (\"Number of training examples: m_train = \" + str(m_train))\n",
    "print (\"Number of testing examples: m_test = \" + str(m_test))\n",
    "print (\"Height/Width of each image: num_px = \" + str(num_px))\n",
    "print (\"Each image is of size: (\" + str(num_px) + \", \" + str(num_px) + \", 3)\")"
   ]
  },
  {
   "cell_type": "code",
   "execution_count": 8,
   "metadata": {},
   "outputs": [
    {
     "name": "stdout",
     "output_type": "stream",
     "text": [
      "train_set_x shape: (209, 64, 64, 3)\n",
      "train_set_y shape: (1, 209)\n",
      "test_set_x shape: (50, 64, 64, 3)\n",
      "test_set_y shape: (1, 50)\n"
     ]
    }
   ],
   "source": [
    "print (\"train_set_x shape: \" + str(train_set_x_orig.shape))\n",
    "print (\"train_set_y shape: \" + str(train_set_y.shape))\n",
    "print (\"test_set_x shape: \" + str(test_set_x_orig.shape))\n",
    "print (\"test_set_y shape: \" + str(test_set_y.shape))"
   ]
  },
  {
   "cell_type": "markdown",
   "metadata": {},
   "source": [
    "### 2.2 Reshaping data"
   ]
  },
  {
   "cell_type": "markdown",
   "metadata": {},
   "source": [
    "For convenience, we now reshape images of shape (num_px, num_px, 3) in a numpy-array of shape (num_px $*$ num_px $*$ 3, 1). After this, our training (and test) dataset is a numpy-array where each column represents a flattened image. There should be m_train (respectively m_test) columns.\n",
    "\n",
    "A trick when you want to flatten a matrix X of shape (a,b,c,d) to a matrix X_flatten of shape (b$*$c$*$d, a) is to use:\n",
    "\n",
    "    X_flatten = X.reshape(X.shape[0], -1).T      # X.T is the transpose of X"
   ]
  },
  {
   "cell_type": "code",
   "execution_count": 9,
   "metadata": {},
   "outputs": [
    {
     "name": "stdout",
     "output_type": "stream",
     "text": [
      "train_set_x_flatten shape: (209, 12288)\n",
      "train_set_y shape: (209, 1)\n",
      "test_set_x_flatten shape: (50, 12288)\n",
      "test_set_y shape: (50, 1)\n"
     ]
    }
   ],
   "source": [
    "# Reshape the training and test examples\n",
    "\n",
    "train_set_x_flatten = train_set_x_orig.reshape(train_set_x_orig.shape[0], -1)\n",
    "test_set_x_flatten = test_set_x_orig.reshape(test_set_x_orig.shape[0], -1)\n",
    "train_set_y = train_set_y.T\n",
    "test_set_y = test_set_y.T\n",
    "\n",
    "print (\"train_set_x_flatten shape: \" + str(train_set_x_flatten.shape))\n",
    "print (\"train_set_y shape: \" + str(train_set_y.shape))\n",
    "print (\"test_set_x_flatten shape: \" + str(test_set_x_flatten.shape))\n",
    "print (\"test_set_y shape: \" + str(test_set_y.shape))"
   ]
  },
  {
   "cell_type": "markdown",
   "metadata": {},
   "source": [
    "### 2.3 Standardizing data"
   ]
  },
  {
   "cell_type": "markdown",
   "metadata": {},
   "source": [
    "One common preprocessing step in machine learning is to center and standardize your dataset, meaning that you substract the mean of the whole numpy array from each example, and then divide each example by the standard deviation of the whole numpy array. But for picture datasets, it is simpler and more convenient and works almost as well to just divide every row of the dataset by 255 (the maximum value of a pixel channel).\n",
    "\n",
    "Let's standardize our dataset."
   ]
  },
  {
   "cell_type": "code",
   "execution_count": 10,
   "metadata": {},
   "outputs": [],
   "source": [
    "train_set_x = train_set_x_flatten/255.\n",
    "test_set_x = test_set_x_flatten/255."
   ]
  },
  {
   "cell_type": "code",
   "execution_count": 11,
   "metadata": {},
   "outputs": [
    {
     "data": {
      "text/plain": [
       "(209, 12288)"
      ]
     },
     "execution_count": 11,
     "metadata": {},
     "output_type": "execute_result"
    }
   ],
   "source": [
    "train_set_x.shape"
   ]
  },
  {
   "cell_type": "markdown",
   "metadata": {},
   "source": [
    "## 3 - Modeling"
   ]
  },
  {
   "cell_type": "code",
   "execution_count": 14,
   "metadata": {},
   "outputs": [],
   "source": [
    "from numpy.random import seed\n",
    "seed(1)\n",
    "#from tensorflow import set_random_seed\n",
    "#set_random_seed(2)"
   ]
  },
  {
   "cell_type": "code",
   "execution_count": 15,
   "metadata": {},
   "outputs": [],
   "source": [
    "# Utility function\n",
    "def evaluate_this_model(model, epochs):\n",
    "    history = model.fit(train_set_x, train_set_y, epochs=epochs)\n",
    "    results = model.evaluate(test_set_x, test_set_y)\n",
    "    \n",
    "    plt.plot(np.squeeze(history.history[\"loss\"]))\n",
    "    plt.ylabel('cost')\n",
    "    plt.xlabel('iterations (per tens)')\n",
    "    plt.title(\"Learning rate =\" + str(learning_rate))\n",
    "    plt.show()\n",
    "    \n",
    "    print(\"\\n\\nAccuracy on training set is {}\".format(history.history[\"acc\"][-1]))\n",
    "    print(\"\\nAccuracy on test set is {}\".format(results[1]))"
   ]
  },
  {
   "cell_type": "markdown",
   "metadata": {},
   "source": [
    "### 3.1 Starting with a basic model"
   ]
  },
  {
   "cell_type": "code",
   "execution_count": 16,
   "metadata": {},
   "outputs": [],
   "source": [
    "model = Sequential()\n",
    "\n",
    "model.add(Dense(units=25, activation='relu', input_dim=train_set_x_flatten.shape[1]))\n",
    "model.add(Dense(units=30, activation='relu'))\n",
    "model.add(Dense(units=20, activation='relu'))\n",
    "model.add(Dense(units=10, activation='relu'))\n",
    "model.add(Dense(units=1, activation='sigmoid'))"
   ]
  },
  {
   "cell_type": "code",
   "execution_count": 17,
   "metadata": {},
   "outputs": [],
   "source": [
    "learning_rate = 0.0001\n",
    "opt = Adam(lr=learning_rate)\n",
    "model.compile(optimizer=opt,\n",
    "              loss='binary_crossentropy',\n",
    "              metrics=['accuracy'])"
   ]
  },
  {
   "cell_type": "code",
   "execution_count": 18,
   "metadata": {
    "scrolled": true
   },
   "outputs": [
    {
     "name": "stdout",
     "output_type": "stream",
     "text": [
      "Epoch 1/5\n",
      "7/7 [==============================] - 0s 11ms/step - loss: 0.7134 - accuracy: 0.3349\n",
      "Epoch 2/5\n",
      "7/7 [==============================] - 0s 7ms/step - loss: 0.7010 - accuracy: 0.4833\n",
      "Epoch 3/5\n",
      "7/7 [==============================] - 0s 6ms/step - loss: 0.6848 - accuracy: 0.6507\n",
      "Epoch 4/5\n",
      "7/7 [==============================] - 0s 6ms/step - loss: 0.6743 - accuracy: 0.6555\n",
      "Epoch 5/5\n",
      "7/7 [==============================] - 0s 6ms/step - loss: 0.6585 - accuracy: 0.6555\n",
      "2/2 [==============================] - 0s 0s/step - loss: 0.8587 - accuracy: 0.3400\n"
     ]
    },
    {
     "data": {
      "image/png": "[encoded data removed]",
      "text/plain": [
       "<matplotlib.figure.Figure at 0x229b1c8b0f0>"
      ]
     },
     "metadata": {},
     "output_type": "display_data"
    },
    {
     "ename": "KeyError",
     "evalue": "'acc'",
     "output_type": "error",
     "traceback": [
      "\u001b[1;31m---------------------------------------------------------------------------\u001b[0m",
      "\u001b[1;31mKeyError\u001b[0m                                  Traceback (most recent call last)",
      "\u001b[1;32m<ipython-input-18-7fa76e0487aa>\u001b[0m in \u001b[0;36m<module>\u001b[1;34m()\u001b[0m\n\u001b[1;32m----> 1\u001b[1;33m \u001b[0mh\u001b[0m \u001b[1;33m=\u001b[0m \u001b[0mevaluate_this_model\u001b[0m\u001b[1;33m(\u001b[0m\u001b[0mmodel\u001b[0m\u001b[1;33m,\u001b[0m \u001b[1;36m5\u001b[0m\u001b[1;33m)\u001b[0m\u001b[1;33m\u001b[0m\u001b[0m\n\u001b[0m",
      "\u001b[1;32m<ipython-input-15-8f4fa72787cd>\u001b[0m in \u001b[0;36mevaluate_this_model\u001b[1;34m(model, epochs)\u001b[0m\n\u001b[0;32m     10\u001b[0m     \u001b[0mplt\u001b[0m\u001b[1;33m.\u001b[0m\u001b[0mshow\u001b[0m\u001b[1;33m(\u001b[0m\u001b[1;33m)\u001b[0m\u001b[1;33m\u001b[0m\u001b[0m\n\u001b[0;32m     11\u001b[0m \u001b[1;33m\u001b[0m\u001b[0m\n\u001b[1;32m---> 12\u001b[1;33m     \u001b[0mprint\u001b[0m\u001b[1;33m(\u001b[0m\u001b[1;34m\"\\n\\nAccuracy on training set is {}\"\u001b[0m\u001b[1;33m.\u001b[0m\u001b[0mformat\u001b[0m\u001b[1;33m(\u001b[0m\u001b[0mhistory\u001b[0m\u001b[1;33m.\u001b[0m\u001b[0mhistory\u001b[0m\u001b[1;33m[\u001b[0m\u001b[1;34m\"acc\"\u001b[0m\u001b[1;33m]\u001b[0m\u001b[1;33m[\u001b[0m\u001b[1;33m-\u001b[0m\u001b[1;36m1\u001b[0m\u001b[1;33m]\u001b[0m\u001b[1;33m)\u001b[0m\u001b[1;33m)\u001b[0m\u001b[1;33m\u001b[0m\u001b[0m\n\u001b[0m\u001b[0;32m     13\u001b[0m     \u001b[0mprint\u001b[0m\u001b[1;33m(\u001b[0m\u001b[1;34m\"\\nAccuracy on test set is {}\"\u001b[0m\u001b[1;33m.\u001b[0m\u001b[0mformat\u001b[0m\u001b[1;33m(\u001b[0m\u001b[0mresults\u001b[0m\u001b[1;33m[\u001b[0m\u001b[1;36m1\u001b[0m\u001b[1;33m]\u001b[0m\u001b[1;33m)\u001b[0m\u001b[1;33m)\u001b[0m\u001b[1;33m\u001b[0m\u001b[0m\n",
      "\u001b[1;31mKeyError\u001b[0m: 'acc'"
     ]
    }
   ],
   "source": [
    "h = evaluate_this_model(model, 5)"
   ]
  },
  {
   "cell_type": "markdown",
   "metadata": {},
   "source": [
    "### 3.2 Improving the basic Model\n",
    "\n",
    "___Objective:___ Design and tune a feed forward deep learning model to achieve at least ___75% accuracy___ on this dataset."
   ]
  },
  {
   "cell_type": "code",
   "execution_count": 31,
   "metadata": {},
   "outputs": [],
   "source": [
    "# Run this cell first\n",
    "from numpy.random import seed\n",
    "seed(1)\n",
    "from tensorflow import set_random_seed\n",
    "set_random_seed(2)"
   ]
  },
  {
   "cell_type": "code",
   "execution_count": 32,
   "metadata": {},
   "outputs": [],
   "source": [
    "model = Sequential()\n",
    "\n",
    "model.add(Dense(units=1, activation='sigmoid'))"
   ]
  },
  {
   "cell_type": "code",
   "execution_count": 33,
   "metadata": {},
   "outputs": [],
   "source": [
    "learning_rate = ?\n",
    "opt = Adam(lr=learning_rate)\n",
    "model.compile(optimizer=opt,\n",
    "              loss='binary_crossentropy',\n",
    "              metrics=['accuracy'])"
   ]
  },
  {
   "cell_type": "code",
   "execution_count": 34,
   "metadata": {
    "scrolled": true
   },
   "outputs": [
    {
     "name": "stdout",
     "output_type": "stream",
     "text": [
      "Epoch 1/300\n",
      "209/209 [==============================] - 4s 17ms/step - loss: 0.8415 - acc: 0.4880\n",
      "Epoch 2/300\n",
      "209/209 [==============================] - 0s 899us/step - loss: 0.7900 - acc: 0.5455\n",
      "Epoch 3/300\n",
      "209/209 [==============================] - 0s 913us/step - loss: 0.7505 - acc: 0.5215\n",
      "Epoch 4/300\n",
      "209/209 [==============================] - 0s 886us/step - loss: 0.7135 - acc: 0.5550\n",
      "Epoch 5/300\n",
      "209/209 [==============================] - 0s 852us/step - loss: 0.7697 - acc: 0.5359\n",
      "Epoch 6/300\n",
      "209/209 [==============================] - 0s 877us/step - loss: 0.6886 - acc: 0.6172\n",
      "Epoch 7/300\n",
      "209/209 [==============================] - 0s 861us/step - loss: 0.6786 - acc: 0.6124\n",
      "Epoch 8/300\n",
      "209/209 [==============================] - 0s 858us/step - loss: 0.6730 - acc: 0.6220\n",
      "Epoch 9/300\n",
      "209/209 [==============================] - 0s 913us/step - loss: 0.6272 - acc: 0.6459\n",
      "Epoch 10/300\n",
      "209/209 [==============================] - 0s 846us/step - loss: 0.6569 - acc: 0.6316\n",
      "Epoch 11/300\n",
      "209/209 [==============================] - 0s 870us/step - loss: 0.6605 - acc: 0.6124\n",
      "Epoch 12/300\n",
      "209/209 [==============================] - 0s 861us/step - loss: 0.6349 - acc: 0.6316\n",
      "Epoch 13/300\n",
      "209/209 [==============================] - 0s 920us/step - loss: 0.6291 - acc: 0.6651\n",
      "Epoch 14/300\n",
      "209/209 [==============================] - 0s 880us/step - loss: 0.6074 - acc: 0.6651\n",
      "Epoch 15/300\n",
      "209/209 [==============================] - 0s 862us/step - loss: 0.6425 - acc: 0.6507\n",
      "Epoch 16/300\n",
      "209/209 [==============================] - 0s 894us/step - loss: 0.6682 - acc: 0.6555\n",
      "Epoch 17/300\n",
      "209/209 [==============================] - 0s 875us/step - loss: 0.6056 - acc: 0.6794\n",
      "Epoch 18/300\n",
      "209/209 [==============================] - 0s 875us/step - loss: 0.6117 - acc: 0.6842\n",
      "Epoch 19/300\n",
      "209/209 [==============================] - 0s 866us/step - loss: 0.6419 - acc: 0.6411\n",
      "Epoch 20/300\n",
      "209/209 [==============================] - 0s 913us/step - loss: 0.5960 - acc: 0.6890\n",
      "Epoch 21/300\n",
      "209/209 [==============================] - 0s 928us/step - loss: 0.5397 - acc: 0.7416\n",
      "Epoch 22/300\n",
      "209/209 [==============================] - 0s 875us/step - loss: 0.6315 - acc: 0.6507\n",
      "Epoch 23/300\n",
      "209/209 [==============================] - 0s 880us/step - loss: 0.5938 - acc: 0.6746\n",
      "Epoch 24/300\n",
      "209/209 [==============================] - 0s 867us/step - loss: 0.5611 - acc: 0.7033\n",
      "Epoch 25/300\n",
      "209/209 [==============================] - 0s 918us/step - loss: 0.5756 - acc: 0.6746\n",
      "Epoch 26/300\n",
      "209/209 [==============================] - 0s 899us/step - loss: 0.5481 - acc: 0.7321\n",
      "Epoch 27/300\n",
      "209/209 [==============================] - 0s 928us/step - loss: 0.5568 - acc: 0.7512\n",
      "Epoch 28/300\n",
      "209/209 [==============================] - 0s 923us/step - loss: 0.5545 - acc: 0.7321\n",
      "Epoch 29/300\n",
      "209/209 [==============================] - 0s 932us/step - loss: 0.5108 - acc: 0.7416\n",
      "Epoch 30/300\n",
      "209/209 [==============================] - 0s 918us/step - loss: 0.4870 - acc: 0.7751\n",
      "Epoch 31/300\n",
      "209/209 [==============================] - 0s 918us/step - loss: 0.5056 - acc: 0.7895\n",
      "Epoch 32/300\n",
      "209/209 [==============================] - 0s 918us/step - loss: 0.4778 - acc: 0.7943\n",
      "Epoch 33/300\n",
      "209/209 [==============================] - 0s 923us/step - loss: 0.4651 - acc: 0.8230\n",
      "Epoch 34/300\n",
      "209/209 [==============================] - 0s 923us/step - loss: 0.4747 - acc: 0.7895\n",
      "Epoch 35/300\n",
      "209/209 [==============================] - 0s 932us/step - loss: 0.4664 - acc: 0.7895\n",
      "Epoch 36/300\n",
      "209/209 [==============================] - 0s 918us/step - loss: 0.4912 - acc: 0.7703\n",
      "Epoch 37/300\n",
      "209/209 [==============================] - 0s 913us/step - loss: 0.4458 - acc: 0.8086\n",
      "Epoch 38/300\n",
      "209/209 [==============================] - 0s 909us/step - loss: 0.4345 - acc: 0.8182\n",
      "Epoch 39/300\n",
      "209/209 [==============================] - 0s 937us/step - loss: 0.4249 - acc: 0.7895\n",
      "Epoch 40/300\n",
      "209/209 [==============================] - 0s 909us/step - loss: 0.4403 - acc: 0.7990\n",
      "Epoch 41/300\n",
      "209/209 [==============================] - 0s 923us/step - loss: 0.4881 - acc: 0.7847\n",
      "Epoch 42/300\n",
      "209/209 [==============================] - 0s 894us/step - loss: 0.4289 - acc: 0.8325\n",
      "Epoch 43/300\n",
      "209/209 [==============================] - 0s 928us/step - loss: 0.3950 - acc: 0.8325\n",
      "Epoch 44/300\n",
      "209/209 [==============================] - 0s 942us/step - loss: 0.4108 - acc: 0.8086\n",
      "Epoch 45/300\n",
      "209/209 [==============================] - 0s 928us/step - loss: 0.4426 - acc: 0.8086\n",
      "Epoch 46/300\n",
      "209/209 [==============================] - 0s 904us/step - loss: 0.4191 - acc: 0.7943\n",
      "Epoch 47/300\n",
      "209/209 [==============================] - 0s 937us/step - loss: 0.4093 - acc: 0.8182\n",
      "Epoch 48/300\n",
      "209/209 [==============================] - 0s 913us/step - loss: 0.4254 - acc: 0.7847\n",
      "Epoch 49/300\n",
      "209/209 [==============================] - 0s 928us/step - loss: 0.3909 - acc: 0.8230\n",
      "Epoch 50/300\n",
      "209/209 [==============================] - 0s 923us/step - loss: 0.3866 - acc: 0.8325\n",
      "Epoch 51/300\n",
      "209/209 [==============================] - 0s 913us/step - loss: 0.3722 - acc: 0.8660\n",
      "Epoch 52/300\n",
      "209/209 [==============================] - 0s 918us/step - loss: 0.3907 - acc: 0.8278\n",
      "Epoch 53/300\n",
      "209/209 [==============================] - 0s 918us/step - loss: 0.3316 - acc: 0.8660\n",
      "Epoch 54/300\n",
      "209/209 [==============================] - 0s 923us/step - loss: 0.3000 - acc: 0.8852\n",
      "Epoch 55/300\n",
      "209/209 [==============================] - 0s 932us/step - loss: 0.3728 - acc: 0.8278\n",
      "Epoch 56/300\n",
      "209/209 [==============================] - 0s 923us/step - loss: 0.3969 - acc: 0.8134\n",
      "Epoch 57/300\n",
      "209/209 [==============================] - 0s 889us/step - loss: 0.3290 - acc: 0.8469\n",
      "Epoch 58/300\n",
      "209/209 [==============================] - 0s 937us/step - loss: 0.3219 - acc: 0.8900\n",
      "Epoch 59/300\n",
      "209/209 [==============================] - 0s 913us/step - loss: 0.3151 - acc: 0.8660\n",
      "Epoch 60/300\n",
      "209/209 [==============================] - 0s 918us/step - loss: 0.3055 - acc: 0.8852\n",
      "Epoch 61/300\n",
      "209/209 [==============================] - 0s 947us/step - loss: 0.2688 - acc: 0.8947\n",
      "Epoch 62/300\n",
      "209/209 [==============================] - 0s 932us/step - loss: 0.2996 - acc: 0.8947\n",
      "Epoch 63/300\n",
      "209/209 [==============================] - 0s 932us/step - loss: 0.3196 - acc: 0.8756\n",
      "Epoch 64/300\n",
      "209/209 [==============================] - 0s 942us/step - loss: 0.2504 - acc: 0.9091\n",
      "Epoch 65/300\n",
      "209/209 [==============================] - 0s 918us/step - loss: 0.3441 - acc: 0.8469\n",
      "Epoch 66/300\n",
      "209/209 [==============================] - 0s 918us/step - loss: 0.2786 - acc: 0.8756\n",
      "Epoch 67/300\n",
      "209/209 [==============================] - 0s 913us/step - loss: 0.2817 - acc: 0.8995\n",
      "Epoch 68/300\n",
      "209/209 [==============================] - 0s 947us/step - loss: 0.2893 - acc: 0.8947\n",
      "Epoch 69/300\n",
      "209/209 [==============================] - 0s 937us/step - loss: 0.2617 - acc: 0.8947\n",
      "Epoch 70/300\n",
      "209/209 [==============================] - 0s 942us/step - loss: 0.2353 - acc: 0.9234\n",
      "Epoch 71/300\n",
      "209/209 [==============================] - 0s 918us/step - loss: 0.2244 - acc: 0.9187\n",
      "Epoch 72/300\n",
      "209/209 [==============================] - 0s 928us/step - loss: 0.2875 - acc: 0.8995\n",
      "Epoch 73/300\n",
      "209/209 [==============================] - 0s 947us/step - loss: 0.2653 - acc: 0.8995\n",
      "Epoch 74/300\n",
      "209/209 [==============================] - 0s 932us/step - loss: 0.2721 - acc: 0.8900\n",
      "Epoch 75/300\n",
      "209/209 [==============================] - 0s 909us/step - loss: 0.2234 - acc: 0.9187\n",
      "Epoch 76/300\n",
      "209/209 [==============================] - 0s 928us/step - loss: 0.2224 - acc: 0.9043\n",
      "Epoch 77/300\n",
      "209/209 [==============================] - 0s 937us/step - loss: 0.2414 - acc: 0.8995\n",
      "Epoch 78/300\n",
      "209/209 [==============================] - 0s 942us/step - loss: 0.2366 - acc: 0.9043\n",
      "Epoch 79/300\n",
      "209/209 [==============================] - 0s 913us/step - loss: 0.2739 - acc: 0.9091\n",
      "Epoch 80/300\n",
      "209/209 [==============================] - 0s 956us/step - loss: 0.2490 - acc: 0.9043\n",
      "Epoch 81/300\n",
      "209/209 [==============================] - 0s 928us/step - loss: 0.2085 - acc: 0.9234\n",
      "Epoch 82/300\n",
      "209/209 [==============================] - 0s 918us/step - loss: 0.2068 - acc: 0.9139\n",
      "Epoch 83/300\n",
      "209/209 [==============================] - 0s 918us/step - loss: 0.1505 - acc: 0.9426\n",
      "Epoch 84/300\n",
      "209/209 [==============================] - 0s 966us/step - loss: 0.2278 - acc: 0.9043\n",
      "Epoch 85/300\n",
      "209/209 [==============================] - 0s 932us/step - loss: 0.1804 - acc: 0.9378\n",
      "Epoch 86/300\n",
      "209/209 [==============================] - 0s 899us/step - loss: 0.1847 - acc: 0.9426\n",
      "Epoch 87/300\n",
      "209/209 [==============================] - 0s 918us/step - loss: 0.2829 - acc: 0.8852\n",
      "Epoch 88/300\n",
      "209/209 [==============================] - 0s 923us/step - loss: 0.1743 - acc: 0.9474\n",
      "Epoch 89/300\n",
      "209/209 [==============================] - 0s 942us/step - loss: 0.1812 - acc: 0.9474\n",
      "Epoch 90/300\n",
      "209/209 [==============================] - 0s 904us/step - loss: 0.1563 - acc: 0.9282\n",
      "Epoch 91/300\n",
      "209/209 [==============================] - 0s 928us/step - loss: 0.1457 - acc: 0.9522\n",
      "Epoch 92/300\n",
      "209/209 [==============================] - 0s 899us/step - loss: 0.1686 - acc: 0.9426\n",
      "Epoch 93/300\n",
      "209/209 [==============================] - 0s 937us/step - loss: 0.1953 - acc: 0.9378\n",
      "Epoch 94/300\n",
      "209/209 [==============================] - 0s 937us/step - loss: 0.1914 - acc: 0.9378\n",
      "Epoch 95/300\n",
      "209/209 [==============================] - 0s 1ms/step - loss: 0.1807 - acc: 0.9378\n",
      "Epoch 96/300\n",
      "209/209 [==============================] - 0s 923us/step - loss: 0.1670 - acc: 0.9569\n",
      "Epoch 97/300\n",
      "209/209 [==============================] - 0s 913us/step - loss: 0.1930 - acc: 0.9522\n",
      "Epoch 98/300\n",
      "209/209 [==============================] - 0s 942us/step - loss: 0.1468 - acc: 0.9617\n",
      "Epoch 99/300\n",
      "209/209 [==============================] - 0s 904us/step - loss: 0.1645 - acc: 0.9378\n",
      "Epoch 100/300\n",
      "209/209 [==============================] - 0s 909us/step - loss: 0.1684 - acc: 0.9426\n",
      "Epoch 101/300\n",
      "209/209 [==============================] - 0s 913us/step - loss: 0.1136 - acc: 0.9569\n",
      "Epoch 102/300\n",
      "209/209 [==============================] - 0s 928us/step - loss: 0.2501 - acc: 0.9043\n",
      "Epoch 103/300\n",
      "209/209 [==============================] - 0s 913us/step - loss: 0.1293 - acc: 0.9617\n",
      "Epoch 104/300\n",
      "209/209 [==============================] - 0s 909us/step - loss: 0.1465 - acc: 0.9474\n",
      "Epoch 105/300\n",
      "209/209 [==============================] - 0s 923us/step - loss: 0.1230 - acc: 0.9617\n",
      "Epoch 106/300\n",
      "209/209 [==============================] - 0s 980us/step - loss: 0.1963 - acc: 0.9378\n",
      "Epoch 107/300\n",
      "209/209 [==============================] - 0s 1ms/step - loss: 0.1268 - acc: 0.9522\n",
      "Epoch 108/300\n",
      "209/209 [==============================] - 0s 1ms/step - loss: 0.1514 - acc: 0.9426\n",
      "Epoch 109/300\n",
      "209/209 [==============================] - 0s 1ms/step - loss: 0.1425 - acc: 0.9378\n",
      "Epoch 110/300\n",
      "209/209 [==============================] - 0s 1ms/step - loss: 0.1064 - acc: 0.9809\n",
      "Epoch 111/300\n",
      "209/209 [==============================] - 0s 1ms/step - loss: 0.1147 - acc: 0.9665\n",
      "Epoch 112/300\n",
      "209/209 [==============================] - 0s 947us/step - loss: 0.1019 - acc: 0.9665\n",
      "Epoch 113/300\n",
      "209/209 [==============================] - 0s 976us/step - loss: 0.1755 - acc: 0.9378\n",
      "Epoch 114/300\n",
      "209/209 [==============================] - 0s 947us/step - loss: 0.0960 - acc: 0.9713\n",
      "Epoch 115/300\n",
      "209/209 [==============================] - 0s 1ms/step - loss: 0.1490 - acc: 0.9426\n",
      "Epoch 116/300\n",
      "209/209 [==============================] - 0s 1ms/step - loss: 0.1107 - acc: 0.9522\n",
      "Epoch 117/300\n",
      "209/209 [==============================] - 0s 1ms/step - loss: 0.1536 - acc: 0.9474\n",
      "Epoch 118/300\n",
      "209/209 [==============================] - 0s 1ms/step - loss: 0.0871 - acc: 0.9761\n",
      "Epoch 119/300\n",
      "209/209 [==============================] - 0s 1ms/step - loss: 0.1309 - acc: 0.9713\n",
      "Epoch 120/300\n",
      "209/209 [==============================] - 0s 1ms/step - loss: 0.0833 - acc: 0.9856\n",
      "Epoch 121/300\n",
      "209/209 [==============================] - 0s 1ms/step - loss: 0.1142 - acc: 0.9617\n",
      "Epoch 122/300\n",
      "209/209 [==============================] - 0s 1ms/step - loss: 0.1142 - acc: 0.9713\n",
      "Epoch 123/300\n",
      "209/209 [==============================] - 0s 1ms/step - loss: 0.0914 - acc: 0.9713\n",
      "Epoch 124/300\n",
      "209/209 [==============================] - 0s 1ms/step - loss: 0.1512 - acc: 0.9522\n",
      "Epoch 125/300\n",
      "209/209 [==============================] - 0s 999us/step - loss: 0.1799 - acc: 0.9234\n",
      "Epoch 126/300\n",
      "209/209 [==============================] - 0s 999us/step - loss: 0.2073 - acc: 0.9139\n",
      "Epoch 127/300\n",
      "209/209 [==============================] - 0s 1ms/step - loss: 0.1387 - acc: 0.9474\n",
      "Epoch 128/300\n",
      "209/209 [==============================] - 0s 1ms/step - loss: 0.2908 - acc: 0.8947\n",
      "Epoch 129/300\n",
      "209/209 [==============================] - 0s 1ms/step - loss: 0.3066 - acc: 0.9091\n",
      "Epoch 130/300\n",
      "209/209 [==============================] - 0s 980us/step - loss: 0.1464 - acc: 0.9474\n",
      "Epoch 131/300\n",
      "209/209 [==============================] - 0s 1ms/step - loss: 0.1455 - acc: 0.9426\n",
      "Epoch 132/300\n",
      "209/209 [==============================] - 0s 1ms/step - loss: 0.1380 - acc: 0.9522\n",
      "Epoch 133/300\n",
      "209/209 [==============================] - 0s 999us/step - loss: 0.1186 - acc: 0.9713\n",
      "Epoch 134/300\n",
      "209/209 [==============================] - 0s 1ms/step - loss: 0.2010 - acc: 0.9330\n",
      "Epoch 135/300\n",
      "209/209 [==============================] - 0s 1ms/step - loss: 0.1427 - acc: 0.9569\n",
      "Epoch 136/300\n",
      "209/209 [==============================] - 0s 990us/step - loss: 0.2018 - acc: 0.9187\n",
      "Epoch 137/300\n",
      "209/209 [==============================] - 0s 1ms/step - loss: 0.1552 - acc: 0.9474\n",
      "Epoch 138/300\n",
      "209/209 [==============================] - 0s 995us/step - loss: 0.1700 - acc: 0.9522\n",
      "Epoch 139/300\n",
      "209/209 [==============================] - 0s 1ms/step - loss: 0.1081 - acc: 0.9904\n",
      "Epoch 140/300\n",
      "209/209 [==============================] - 0s 1ms/step - loss: 0.1956 - acc: 0.9282\n",
      "Epoch 141/300\n",
      "209/209 [==============================] - 0s 1ms/step - loss: 0.0564 - acc: 0.9952\n",
      "Epoch 142/300\n",
      "209/209 [==============================] - 0s 976us/step - loss: 0.1869 - acc: 0.9187\n",
      "Epoch 143/300\n",
      "209/209 [==============================] - 0s 952us/step - loss: 0.1422 - acc: 0.9522\n",
      "Epoch 144/300\n",
      "209/209 [==============================] - 0s 999us/step - loss: 0.1590 - acc: 0.9522\n",
      "Epoch 145/300\n",
      "209/209 [==============================] - 0s 990us/step - loss: 0.1597 - acc: 0.9426\n",
      "Epoch 146/300\n",
      "209/209 [==============================] - 0s 952us/step - loss: 0.1200 - acc: 0.9569\n",
      "Epoch 147/300\n",
      "209/209 [==============================] - 0s 990us/step - loss: 0.1502 - acc: 0.9569\n",
      "Epoch 148/300\n",
      "209/209 [==============================] - 0s 1ms/step - loss: 0.1359 - acc: 0.9522\n",
      "Epoch 149/300\n",
      "209/209 [==============================] - 0s 1ms/step - loss: 0.1355 - acc: 0.9426\n",
      "Epoch 150/300\n",
      "209/209 [==============================] - 0s 995us/step - loss: 0.1130 - acc: 0.9713\n",
      "Epoch 151/300\n",
      "209/209 [==============================] - 0s 961us/step - loss: 0.1450 - acc: 0.9474\n",
      "Epoch 152/300\n",
      "209/209 [==============================] - 0s 971us/step - loss: 0.1273 - acc: 0.9569\n",
      "Epoch 153/300\n",
      "209/209 [==============================] - 0s 1ms/step - loss: 0.1339 - acc: 0.9522\n",
      "Epoch 154/300\n",
      "209/209 [==============================] - 0s 1ms/step - loss: 0.1361 - acc: 0.9569\n",
      "Epoch 155/300\n",
      "209/209 [==============================] - 0s 1ms/step - loss: 0.1315 - acc: 0.9474\n",
      "Epoch 156/300\n",
      "209/209 [==============================] - 0s 956us/step - loss: 0.1384 - acc: 0.9330\n",
      "Epoch 157/300\n",
      "209/209 [==============================] - 0s 1ms/step - loss: 0.0780 - acc: 0.9713\n",
      "Epoch 158/300\n",
      "209/209 [==============================] - 0s 990us/step - loss: 0.1610 - acc: 0.9378\n",
      "Epoch 159/300\n",
      "209/209 [==============================] - 0s 1ms/step - loss: 0.0845 - acc: 0.9569\n",
      "Epoch 160/300\n",
      "209/209 [==============================] - 0s 999us/step - loss: 0.0831 - acc: 0.9713\n",
      "Epoch 161/300\n",
      "209/209 [==============================] - 0s 999us/step - loss: 0.1341 - acc: 0.9569\n",
      "Epoch 162/300\n",
      "209/209 [==============================] - 0s 1ms/step - loss: 0.1425 - acc: 0.9378\n",
      "Epoch 163/300\n",
      "209/209 [==============================] - 0s 1ms/step - loss: 0.1368 - acc: 0.9378\n",
      "Epoch 164/300\n",
      "209/209 [==============================] - 0s 1ms/step - loss: 0.1071 - acc: 0.9665\n",
      "Epoch 165/300\n",
      "209/209 [==============================] - 0s 990us/step - loss: 0.2353 - acc: 0.9330\n"
     ]
    },
    {
     "name": "stdout",
     "output_type": "stream",
     "text": [
      "Epoch 166/300\n",
      "209/209 [==============================] - 0s 966us/step - loss: 0.1239 - acc: 0.9665\n",
      "Epoch 167/300\n",
      "209/209 [==============================] - 0s 999us/step - loss: 0.1107 - acc: 0.9665\n",
      "Epoch 168/300\n",
      "209/209 [==============================] - 0s 1ms/step - loss: 0.0848 - acc: 0.9761\n",
      "Epoch 169/300\n",
      "209/209 [==============================] - 0s 1ms/step - loss: 0.1712 - acc: 0.9378\n",
      "Epoch 170/300\n",
      "209/209 [==============================] - 0s 1ms/step - loss: 0.1442 - acc: 0.9569\n",
      "Epoch 171/300\n",
      "209/209 [==============================] - 0s 1ms/step - loss: 0.1150 - acc: 0.9569\n",
      "Epoch 172/300\n",
      "209/209 [==============================] - 0s 976us/step - loss: 0.1204 - acc: 0.9617\n",
      "Epoch 173/300\n",
      "209/209 [==============================] - 0s 990us/step - loss: 0.0498 - acc: 0.9856\n",
      "Epoch 174/300\n",
      "209/209 [==============================] - 0s 1ms/step - loss: 0.1300 - acc: 0.9617\n",
      "Epoch 175/300\n",
      "209/209 [==============================] - 0s 1ms/step - loss: 0.1193 - acc: 0.9665\n",
      "Epoch 176/300\n",
      "209/209 [==============================] - 0s 1ms/step - loss: 0.1700 - acc: 0.9378\n",
      "Epoch 177/300\n",
      "209/209 [==============================] - 0s 990us/step - loss: 0.0822 - acc: 0.9713\n",
      "Epoch 178/300\n",
      "209/209 [==============================] - 0s 947us/step - loss: 0.1774 - acc: 0.9187\n",
      "Epoch 179/300\n",
      "209/209 [==============================] - 0s 971us/step - loss: 0.1637 - acc: 0.9474\n",
      "Epoch 180/300\n",
      "209/209 [==============================] - 0s 1ms/step - loss: 0.1682 - acc: 0.9234\n",
      "Epoch 181/300\n",
      "209/209 [==============================] - 0s 980us/step - loss: 0.1143 - acc: 0.9665\n",
      "Epoch 182/300\n",
      "209/209 [==============================] - 0s 966us/step - loss: 0.0687 - acc: 0.9809\n",
      "Epoch 183/300\n",
      "209/209 [==============================] - 0s 976us/step - loss: 0.0872 - acc: 0.9761\n",
      "Epoch 184/300\n",
      "209/209 [==============================] - 0s 999us/step - loss: 0.0761 - acc: 0.9761\n",
      "Epoch 185/300\n",
      "209/209 [==============================] - 0s 1ms/step - loss: 0.0965 - acc: 0.9713\n",
      "Epoch 186/300\n",
      "209/209 [==============================] - 0s 1ms/step - loss: 0.1285 - acc: 0.9569\n",
      "Epoch 187/300\n",
      "209/209 [==============================] - 0s 990us/step - loss: 0.2047 - acc: 0.9091\n",
      "Epoch 188/300\n",
      "209/209 [==============================] - 0s 1ms/step - loss: 0.0761 - acc: 0.9761\n",
      "Epoch 189/300\n",
      "209/209 [==============================] - 0s 1ms/step - loss: 0.1098 - acc: 0.9569\n",
      "Epoch 190/300\n",
      "209/209 [==============================] - 0s 971us/step - loss: 0.0959 - acc: 0.9665\n",
      "Epoch 191/300\n",
      "209/209 [==============================] - 0s 1ms/step - loss: 0.1420 - acc: 0.9522\n",
      "Epoch 192/300\n",
      "209/209 [==============================] - 0s 1ms/step - loss: 0.0738 - acc: 0.9761\n",
      "Epoch 193/300\n",
      "209/209 [==============================] - 0s 1ms/step - loss: 0.1162 - acc: 0.9569\n",
      "Epoch 194/300\n",
      "209/209 [==============================] - 0s 1ms/step - loss: 0.1539 - acc: 0.9426\n",
      "Epoch 195/300\n",
      "209/209 [==============================] - 0s 1ms/step - loss: 0.0864 - acc: 0.9665\n",
      "Epoch 196/300\n",
      "209/209 [==============================] - 0s 1ms/step - loss: 0.2042 - acc: 0.9426\n",
      "Epoch 197/300\n",
      "209/209 [==============================] - 0s 1ms/step - loss: 0.1465 - acc: 0.9569\n",
      "Epoch 198/300\n",
      "209/209 [==============================] - 0s 1ms/step - loss: 0.0549 - acc: 0.9856\n",
      "Epoch 199/300\n",
      "209/209 [==============================] - 0s 1ms/step - loss: 0.1046 - acc: 0.9665\n",
      "Epoch 200/300\n",
      "209/209 [==============================] - 0s 1ms/step - loss: 0.0883 - acc: 0.9665\n",
      "Epoch 201/300\n",
      "209/209 [==============================] - 0s 995us/step - loss: 0.0670 - acc: 0.9809\n",
      "Epoch 202/300\n",
      "209/209 [==============================] - 0s 971us/step - loss: 0.0987 - acc: 0.9713\n",
      "Epoch 203/300\n",
      "209/209 [==============================] - 0s 990us/step - loss: 0.0879 - acc: 0.9713\n",
      "Epoch 204/300\n",
      "209/209 [==============================] - 0s 1ms/step - loss: 0.1277 - acc: 0.9617\n",
      "Epoch 205/300\n",
      "209/209 [==============================] - 0s 976us/step - loss: 0.0650 - acc: 0.9713\n",
      "Epoch 206/300\n",
      "209/209 [==============================] - 0s 976us/step - loss: 0.1105 - acc: 0.9522\n",
      "Epoch 207/300\n",
      "209/209 [==============================] - 0s 1ms/step - loss: 0.1567 - acc: 0.9282\n",
      "Epoch 208/300\n",
      "209/209 [==============================] - 0s 1ms/step - loss: 0.0868 - acc: 0.9761\n",
      "Epoch 209/300\n",
      "209/209 [==============================] - 0s 1ms/step - loss: 0.0852 - acc: 0.9809\n",
      "Epoch 210/300\n",
      "209/209 [==============================] - 0s 1ms/step - loss: 0.0658 - acc: 0.9809\n",
      "Epoch 211/300\n",
      "209/209 [==============================] - 0s 1ms/step - loss: 0.1340 - acc: 0.9474\n",
      "Epoch 212/300\n",
      "209/209 [==============================] - 0s 1ms/step - loss: 0.1697 - acc: 0.9522\n",
      "Epoch 213/300\n",
      "209/209 [==============================] - 0s 1ms/step - loss: 0.1008 - acc: 0.9569\n",
      "Epoch 214/300\n",
      "209/209 [==============================] - 0s 1ms/step - loss: 0.0749 - acc: 0.9856\n",
      "Epoch 215/300\n",
      "209/209 [==============================] - 0s 1ms/step - loss: 0.0966 - acc: 0.9665\n",
      "Epoch 216/300\n",
      "209/209 [==============================] - 0s 1ms/step - loss: 0.0817 - acc: 0.9665\n",
      "Epoch 217/300\n",
      "209/209 [==============================] - 0s 1ms/step - loss: 0.1605 - acc: 0.9378\n",
      "Epoch 218/300\n",
      "209/209 [==============================] - 0s 1ms/step - loss: 0.1037 - acc: 0.9713\n",
      "Epoch 219/300\n",
      "209/209 [==============================] - 0s 1ms/step - loss: 0.1312 - acc: 0.9569\n",
      "Epoch 220/300\n",
      "209/209 [==============================] - 0s 1ms/step - loss: 0.0671 - acc: 0.9809\n",
      "Epoch 221/300\n",
      "209/209 [==============================] - 0s 1ms/step - loss: 0.0720 - acc: 0.9761\n",
      "Epoch 222/300\n",
      "209/209 [==============================] - 0s 1ms/step - loss: 0.0793 - acc: 0.9713\n",
      "Epoch 223/300\n",
      "209/209 [==============================] - 0s 1ms/step - loss: 0.1300 - acc: 0.9522\n",
      "Epoch 224/300\n",
      "209/209 [==============================] - 0s 1ms/step - loss: 0.0932 - acc: 0.9713\n",
      "Epoch 225/300\n",
      "209/209 [==============================] - 0s 1ms/step - loss: 0.0489 - acc: 0.9856\n",
      "Epoch 226/300\n",
      "209/209 [==============================] - 0s 980us/step - loss: 0.0779 - acc: 0.9761\n",
      "Epoch 227/300\n",
      "209/209 [==============================] - 0s 932us/step - loss: 0.1164 - acc: 0.9617\n",
      "Epoch 228/300\n",
      "209/209 [==============================] - 0s 928us/step - loss: 0.1186 - acc: 0.9617\n",
      "Epoch 229/300\n",
      "209/209 [==============================] - 0s 1ms/step - loss: 0.1775 - acc: 0.9330\n",
      "Epoch 230/300\n",
      "209/209 [==============================] - 0s 1ms/step - loss: 0.1008 - acc: 0.9617\n",
      "Epoch 231/300\n",
      "209/209 [==============================] - 0s 1ms/step - loss: 0.0877 - acc: 0.9665\n",
      "Epoch 232/300\n",
      "209/209 [==============================] - 0s 918us/step - loss: 0.1620 - acc: 0.9426\n",
      "Epoch 233/300\n",
      "209/209 [==============================] - 0s 928us/step - loss: 0.1538 - acc: 0.9426\n",
      "Epoch 234/300\n",
      "209/209 [==============================] - 0s 980us/step - loss: 0.1161 - acc: 0.9522\n",
      "Epoch 235/300\n",
      "209/209 [==============================] - 0s 947us/step - loss: 0.1375 - acc: 0.9474\n",
      "Epoch 236/300\n",
      "209/209 [==============================] - 0s 942us/step - loss: 0.0893 - acc: 0.9713\n",
      "Epoch 237/300\n",
      "209/209 [==============================] - 0s 952us/step - loss: 0.1185 - acc: 0.9569\n",
      "Epoch 238/300\n",
      "209/209 [==============================] - 0s 928us/step - loss: 0.1088 - acc: 0.9617\n",
      "Epoch 239/300\n",
      "209/209 [==============================] - 0s 990us/step - loss: 0.0537 - acc: 0.9856\n",
      "Epoch 240/300\n",
      "209/209 [==============================] - 0s 961us/step - loss: 0.0602 - acc: 0.9761\n",
      "Epoch 241/300\n",
      "209/209 [==============================] - 0s 966us/step - loss: 0.0871 - acc: 0.9665\n",
      "Epoch 242/300\n",
      "209/209 [==============================] - 0s 937us/step - loss: 0.0604 - acc: 0.9904\n",
      "Epoch 243/300\n",
      "209/209 [==============================] - 0s 1ms/step - loss: 0.0638 - acc: 0.9809\n",
      "Epoch 244/300\n",
      "209/209 [==============================] - 0s 918us/step - loss: 0.1468 - acc: 0.9474\n",
      "Epoch 245/300\n",
      "209/209 [==============================] - 0s 913us/step - loss: 0.0503 - acc: 0.9809\n",
      "Epoch 246/300\n",
      "209/209 [==============================] - 0s 932us/step - loss: 0.0624 - acc: 0.9761\n",
      "Epoch 247/300\n",
      "209/209 [==============================] - 0s 942us/step - loss: 0.0238 - acc: 1.0000\n",
      "Epoch 248/300\n",
      "209/209 [==============================] - 0s 937us/step - loss: 0.0770 - acc: 0.9761\n",
      "Epoch 249/300\n",
      "209/209 [==============================] - 0s 1ms/step - loss: 0.0701 - acc: 0.9856\n",
      "Epoch 250/300\n",
      "209/209 [==============================] - 0s 937us/step - loss: 0.1239 - acc: 0.9761\n",
      "Epoch 251/300\n",
      "209/209 [==============================] - 0s 995us/step - loss: 0.0427 - acc: 0.9809\n",
      "Epoch 252/300\n",
      "209/209 [==============================] - 0s 956us/step - loss: 0.0582 - acc: 0.9809\n",
      "Epoch 253/300\n",
      "209/209 [==============================] - 0s 918us/step - loss: 0.0332 - acc: 0.9952\n",
      "Epoch 254/300\n",
      "209/209 [==============================] - 0s 1ms/step - loss: 0.0538 - acc: 0.9904\n",
      "Epoch 255/300\n",
      "209/209 [==============================] - 0s 1ms/step - loss: 0.0420 - acc: 0.9856\n",
      "Epoch 256/300\n",
      "209/209 [==============================] - 0s 995us/step - loss: 0.0452 - acc: 0.9904\n",
      "Epoch 257/300\n",
      "209/209 [==============================] - 0s 1ms/step - loss: 0.0857 - acc: 0.9665\n",
      "Epoch 258/300\n",
      "209/209 [==============================] - 0s 999us/step - loss: 0.0428 - acc: 0.9904\n",
      "Epoch 259/300\n",
      "209/209 [==============================] - 0s 985us/step - loss: 0.0310 - acc: 0.9952\n",
      "Epoch 260/300\n",
      "209/209 [==============================] - 0s 1ms/step - loss: 0.0845 - acc: 0.9856\n",
      "Epoch 261/300\n",
      "209/209 [==============================] - 0s 976us/step - loss: 0.0671 - acc: 0.9713\n",
      "Epoch 262/300\n",
      "209/209 [==============================] - 0s 961us/step - loss: 0.0848 - acc: 0.9569\n",
      "Epoch 263/300\n",
      "209/209 [==============================] - 0s 942us/step - loss: 0.0554 - acc: 0.9856\n",
      "Epoch 264/300\n",
      "209/209 [==============================] - 0s 932us/step - loss: 0.0562 - acc: 0.9809\n",
      "Epoch 265/300\n",
      "209/209 [==============================] - 0s 966us/step - loss: 0.0759 - acc: 0.9713\n",
      "Epoch 266/300\n",
      "209/209 [==============================] - 0s 1ms/step - loss: 0.1505 - acc: 0.9426\n",
      "Epoch 267/300\n",
      "209/209 [==============================] - 0s 1ms/step - loss: 0.0503 - acc: 0.9856\n",
      "Epoch 268/300\n",
      "209/209 [==============================] - 0s 1ms/step - loss: 0.0386 - acc: 0.9856\n",
      "Epoch 269/300\n",
      "209/209 [==============================] - 0s 961us/step - loss: 0.0303 - acc: 0.9904\n",
      "Epoch 270/300\n",
      "209/209 [==============================] - 0s 1ms/step - loss: 0.0407 - acc: 0.9952\n",
      "Epoch 271/300\n",
      "209/209 [==============================] - 0s 1ms/step - loss: 0.0556 - acc: 0.9761\n",
      "Epoch 272/300\n",
      "209/209 [==============================] - 0s 1ms/step - loss: 0.0268 - acc: 0.9952\n",
      "Epoch 273/300\n",
      "209/209 [==============================] - 0s 1ms/step - loss: 0.0233 - acc: 0.9904\n",
      "Epoch 274/300\n",
      "209/209 [==============================] - 0s 1ms/step - loss: 0.1041 - acc: 0.9761\n",
      "Epoch 275/300\n",
      "209/209 [==============================] - 0s 1ms/step - loss: 0.0791 - acc: 0.9809\n",
      "Epoch 276/300\n",
      "209/209 [==============================] - 0s 1ms/step - loss: 0.0890 - acc: 0.9713\n",
      "Epoch 277/300\n",
      "209/209 [==============================] - 0s 1ms/step - loss: 0.0508 - acc: 0.9856\n",
      "Epoch 278/300\n",
      "209/209 [==============================] - 0s 1ms/step - loss: 0.0469 - acc: 0.9952\n",
      "Epoch 279/300\n",
      "209/209 [==============================] - 0s 1ms/step - loss: 0.1186 - acc: 0.9617\n",
      "Epoch 280/300\n",
      "209/209 [==============================] - 0s 1ms/step - loss: 0.0933 - acc: 0.9665\n",
      "Epoch 281/300\n",
      "209/209 [==============================] - 0s 999us/step - loss: 0.1387 - acc: 0.9426\n",
      "Epoch 282/300\n",
      "209/209 [==============================] - 0s 1ms/step - loss: 0.0683 - acc: 0.9713\n",
      "Epoch 283/300\n",
      "209/209 [==============================] - 0s 1ms/step - loss: 0.0732 - acc: 0.9713\n",
      "Epoch 284/300\n",
      "209/209 [==============================] - 0s 1ms/step - loss: 0.0382 - acc: 0.9952\n",
      "Epoch 285/300\n",
      "209/209 [==============================] - 0s 1ms/step - loss: 0.1340 - acc: 0.9569\n",
      "Epoch 286/300\n",
      "209/209 [==============================] - 0s 1ms/step - loss: 0.0855 - acc: 0.9713\n",
      "Epoch 287/300\n",
      "209/209 [==============================] - 0s 1ms/step - loss: 0.0479 - acc: 0.9809\n",
      "Epoch 288/300\n",
      "209/209 [==============================] - 0s 1ms/step - loss: 0.0651 - acc: 0.9809\n",
      "Epoch 289/300\n",
      "209/209 [==============================] - 0s 1ms/step - loss: 0.0695 - acc: 0.9856\n",
      "Epoch 290/300\n",
      "209/209 [==============================] - 0s 1ms/step - loss: 0.0552 - acc: 0.9809\n",
      "Epoch 291/300\n",
      "209/209 [==============================] - 0s 1ms/step - loss: 0.0769 - acc: 0.9761\n",
      "Epoch 292/300\n",
      "209/209 [==============================] - 0s 999us/step - loss: 0.0786 - acc: 0.9713\n",
      "Epoch 293/300\n",
      "209/209 [==============================] - 0s 990us/step - loss: 0.0765 - acc: 0.9617\n",
      "Epoch 294/300\n",
      "209/209 [==============================] - 0s 1ms/step - loss: 0.0405 - acc: 0.9856\n",
      "Epoch 295/300\n",
      "209/209 [==============================] - 0s 971us/step - loss: 0.0603 - acc: 0.9856\n",
      "Epoch 296/300\n",
      "209/209 [==============================] - 0s 980us/step - loss: 0.0524 - acc: 0.9809\n",
      "Epoch 297/300\n",
      "209/209 [==============================] - 0s 1ms/step - loss: 0.0372 - acc: 0.9904\n",
      "Epoch 298/300\n",
      "209/209 [==============================] - 0s 999us/step - loss: 0.1069 - acc: 0.9665\n",
      "Epoch 299/300\n",
      "209/209 [==============================] - 0s 1ms/step - loss: 0.0670 - acc: 0.9713\n",
      "Epoch 300/300\n",
      "209/209 [==============================] - 0s 999us/step - loss: 0.0289 - acc: 1.0000\n",
      "50/50 [==============================] - 1s 15ms/step\n"
     ]
    },
    {
     "data": {
      "image/png": "[encoded data removed]",
      "text/plain": [
       "<Figure size 576x576 with 1 Axes>"
      ]
     },
     "metadata": {
      "needs_background": "light"
     },
     "output_type": "display_data"
    },
    {
     "name": "stdout",
     "output_type": "stream",
     "text": [
      "\n",
      "\n",
      "Accuracy on training set is 1.0\n",
      "\n",
      "Accuracy on test set is 0.7799999952316284\n"
     ]
    }
   ],
   "source": [
    "h = evaluate_this_model(model, ?)"
   ]
  }
 ],
 "metadata": {
  "kernelspec": {
   "display_name": "Python 3",
   "language": "python",
   "name": "python3"
  },
  "language_info": {
   "codemirror_mode": {
    "name": "ipython",
    "version": 3
   },
   "file_extension": ".py",
   "mimetype": "text/x-python",
   "name": "python",
   "nbconvert_exporter": "python",
   "pygments_lexer": "ipython3",
   "version": "3.6.4"
  }
 },
 "nbformat": 4,
 "nbformat_minor": 2
}
